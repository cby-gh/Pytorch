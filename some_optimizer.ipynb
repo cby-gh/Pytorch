{
 "cells": [
  {
   "cell_type": "code",
   "execution_count": 118,
   "metadata": {},
   "outputs": [],
   "source": [
    "#!/usr/bin/env pyhon\n",
    "from __future__ import print_function\n",
    "from itertools import count\n",
    "import numpy as np\n",
    "import torch\n",
    "import torch.autograd\n",
    "import torch.nn.functional as F\n",
    "import matplotlib.pyplot as plt\n",
    "import torch.utils.data as Data\n",
    "\n",
    "from sklearn.datasets import load_iris\n",
    "from torch.autograd import Variable\n",
    "from torch.optim import SGD"
   ]
  },
  {
   "cell_type": "code",
   "execution_count": 119,
   "metadata": {},
   "outputs": [],
   "source": [
    "torch.manual_seed(1)\n",
    "LR=0.01\n",
    "BATCH_SIZE=20\n",
    "EPOCH=10"
   ]
  },
  {
   "cell_type": "code",
   "execution_count": 120,
   "metadata": {},
   "outputs": [
    {
     "name": "stdout",
     "output_type": "stream",
     "text": [
      "torch.Size([1500, 1])\n",
      "1500 1\n",
      "tensor([[0.],\n",
      "        [0.],\n",
      "        [0.],\n",
      "        ...,\n",
      "        [0.],\n",
      "        [0.],\n",
      "        [0.]])\n",
      "tensor([[-0.8773],\n",
      "        [ 1.3240],\n",
      "        [-1.1222],\n",
      "        ...,\n",
      "        [ 0.4691],\n",
      "        [ 1.2000],\n",
      "        [-0.8294]])\n",
      "torch.Size([1500, 1])\n"
     ]
    }
   ],
   "source": [
    "x=torch.unsqueeze(torch.linspace(-1,1,1500),dim=1)\n",
    "#z1=torch.linspace(-1,1,15)\n",
    "#z2=torch.unsqueeze(torch.linspace(-1,1,15),dim=1)\n",
    "#print(z1.shape)\n",
    "#print(z2.shape)\n",
    "#print(z1)\n",
    "#print(z2)\n",
    "z=x.size()\n",
    "print(z)\n",
    "y=x.pow(3)+0.1*torch.normal(torch.zeros(*x.size()))\n",
    "print(*x.size())\n",
    "print(torch.zeros(*x.size()))\n",
    "print(torch.normal(torch.zeros(*x.size())))\n",
    "print(torch.normal(torch.zeros(*x.size())).size())"
   ]
  },
  {
   "cell_type": "code",
   "execution_count": 121,
   "metadata": {},
   "outputs": [
    {
     "name": "stdout",
     "output_type": "stream",
     "text": [
      "<class 'torch.Tensor'>\n",
      "<class 'torch.Tensor'>\n",
      "[[-1.        ]\n",
      " [-0.99866575]\n",
      " [-0.99733156]\n",
      " ...\n",
      " [ 0.9973316 ]\n",
      " [ 0.9986658 ]\n",
      " [ 1.        ]]\n",
      "<class 'numpy.ndarray'>\n",
      "<class 'numpy.ndarray'>\n",
      "<class 'torch.Tensor'>\n"
     ]
    },
    {
     "data": {
      "image/png": "[encoded data removed]",
      "text/plain": [
       "<Figure size 432x288 with 1 Axes>"
      ]
     },
     "metadata": {
      "needs_background": "light"
     },
     "output_type": "display_data"
    }
   ],
   "source": [
    "plt.scatter(x.numpy(),y.numpy())\n",
    "print(type(x))\n",
    "print(type(y))\n",
    "print(x.numpy())\n",
    "print(type(x.numpy()))\n",
    "print(type(y.numpy()))\n",
    "print(type(torch.linspace(-1,1,1500)))\n",
    "plt.show()"
   ]
  },
  {
   "cell_type": "code",
   "execution_count": 127,
   "metadata": {},
   "outputs": [
    {
     "name": "stdout",
     "output_type": "stream",
     "text": [
      "<class 'torch.utils.data.dataloader.DataLoader'>\n",
      "<torch.utils.data.dataloader.DataLoader object at 0x7f44fb21a550>\n"
     ]
    }
   ],
   "source": [
    "#torch_dataset=Data.TensorDataset(data_sensor=x,target_tensor=y)旧版\n",
    "torch_dataset=Data.TensorDataset(x,y)#新版\n",
    "loader = Data.DataLoader(dataset=torch_dataset,batch_size=BATCH_SIZE,shuffle=True,num_workers=2)\n",
    "print(type(loader))\n",
    "print(loader)"
   ]
  },
  {
   "cell_type": "code",
   "execution_count": 123,
   "metadata": {},
   "outputs": [],
   "source": [
    "class Net (torch.nn.Module):\n",
    "    def __init__(self):\n",
    "        super(Net,self).__init__()\n",
    "        self.hidden= torch.nn.Linear(1,20)\n",
    "        self.predict=torch.nn.Linear(20,1)\n",
    "        \n",
    "    def forward(self,x):\n",
    "        \n",
    "        x=F.relu(self.hidden(x))\n",
    "        #print('%s is: %s' %('x',str(type(self.hidden(x)))))\n",
    "        #print(x.size())\n",
    "        x=self.predict(x)\n",
    "        #print(x.size())\n",
    "        return x\n"
   ]
  },
  {
   "cell_type": "code",
   "execution_count": 124,
   "metadata": {},
   "outputs": [],
   "source": [
    "net_SGD=Net()\n",
    "net_Momentum=Net()\n",
    "net_RMSprop=Net()\n",
    "net_AdaGrad=Net()\n",
    "net_Adam=Net()\n",
    "\n",
    "nets=[net_SGD,net_Momentum,net_AdaGrad,net_RMSprop,net_Adam]\n",
    "\n",
    "opt_SGD=torch.optim.SGD(net_SGD.parameters(),lr=LR)\n",
    "opt_Momentum=torch.optim.SGD(net_Momentum.parameters(),lr=LR,momentum=0.8)\n",
    "opt_AdaGrad=torch.optim.Adagrad(net_AdaGrad.parameters(),lr=LR)\n",
    "opt_RMSprop=torch.optim.RMSprop(net_RMSprop.parameters(),lr=LR,alpha=0.9)\n",
    "opt_Adam=torch.optim.Adam(net_Adam.parameters(),lr=LR,betas=(0.9,0.99))\n",
    "optimizers=[opt_SGD,opt_Momentum,opt_AdaGrad,opt_RMSprop,opt_Adam]\n",
    "\n",
    "loss_func=torch.nn.MSELoss()\n",
    "losses_his=[[],[],[],[],[]]\n",
    "#x_train = np.linspace(0, 50, num=30) #从0-50生成num多个点\n",
    "#print(type(x_train))\n",
    "#print(x_train.size)\n",
    "#print(x_train.shape)\n",
    "#y_train = 5 * x_train + np.sin(x_train) * x_train + np.random.normal(0, scale=1, size=x_train.size) # y = 5*x + x*sin(x) + noise\n",
    "#print(y_train.size)\n",
    "#print(y_train.shape)\n",
    "#x_train = torch.Tensor(x_train)#转化为张量\n",
    "#y_train = torch.Tensor(y_train)\n",
    "#print(x_train.size())\n",
    "#print(x_train.shape)\n",
    "#print(y_train.size())\n",
    "#print(y_train.shape)"
   ]
  },
  {
   "cell_type": "code",
   "execution_count": 137,
   "metadata": {},
   "outputs": [
    {
     "name": "stdout",
     "output_type": "stream",
     "text": [
      "EPOCH:  0\n",
      "EPOCH:  1\n",
      "EPOCH:  2\n",
      "EPOCH:  3\n",
      "EPOCH:  4\n",
      "EPOCH:  5\n",
      "EPOCH:  6\n",
      "EPOCH:  7\n",
      "EPOCH:  8\n",
      "EPOCH:  9\n"
     ]
    },
    {
     "data": {
      "image/png": "[encoded data removed]",
      "text/plain": [
       "<Figure size 432x288 with 1 Axes>"
      ]
     },
     "metadata": {
      "needs_background": "light"
     },
     "output_type": "display_data"
    }
   ],
   "source": [
    "for epoch in range(EPOCH):\n",
    "    print('EPOCH: ', epoch)\n",
    "    for step, (batch_x,batch_y) in enumerate(loader):\n",
    "        b_x=Variable(batch_x)\n",
    "        b_y=Variable(batch_y)\n",
    "        for net,opt,l_his in zip(nets,optimizers,losses_his):\n",
    "            #if net == net_SGD:\n",
    "            #    print('net_SGD')\n",
    "            #elif net == net_Momentum:\n",
    "            #    print('net_Momentum')\n",
    "            #elif net == net_AdaGrad:\n",
    "            #    print('net_AdaGrad')\n",
    "            #elif net == net_RMSprop:\n",
    "            #    print('net_RMSprop')\n",
    "            #elif net == net_Adam:\n",
    "            #    print('net_Adam')\n",
    "            output=net(b_x)\n",
    "            #pdb.set_trace()\n",
    "            loss=loss_func(output,b_y)\n",
    "            #if opt == opt_SGD:\n",
    "            #    print('opt_SGD')\n",
    "            #elif opt == opt_Momentum:\n",
    "            #    print('opt_Momentum')\n",
    "            #elif opt == opt_AdaGrad:\n",
    "            #    print('opt_AdaGrad')\n",
    "            #elif opt == opt_RMSprop:\n",
    "            #    print('opt_RMSprop')\n",
    "            #elif opt == opt_Adam:\n",
    "            #    print('opt_Adam')\n",
    "            opt.zero_grad()\n",
    "            loss.backward()\n",
    "            opt.step()\n",
    "            #l_his.append(loss.data[0])\n",
    "            l_his.append(loss.item())\n",
    "        #print(type(zip(nets,optimizers,losses_his)))\n",
    "labels = ['SGD','Momentum','AdaGrad','RMSprop','Adam']\n",
    "for i, l_his in enumerate(losses_his):\n",
    "    plt.plot(l_his,label=labels[i])\n",
    "plt.legend()\n",
    "plt.xlabel('Steps')\n",
    "plt.ylabel('Loss')\n",
    "plt.ylim((0,0.2))\n",
    "plt.show()"
   ]
  },
  {
   "cell_type": "code",
   "execution_count": null,
   "metadata": {},
   "outputs": [],
   "source": []
  }
 ],
 "metadata": {
  "kernelspec": {
   "display_name": "Python 3",
   "language": "python",
   "name": "python3"
  },
  "language_info": {
   "codemirror_mode": {
    "name": "ipython",
    "version": 3
   },
   "file_extension": ".py",
   "mimetype": "text/x-python",
   "name": "python",
   "nbconvert_exporter": "python",
   "pygments_lexer": "ipython3",
   "version": "3.7.3"
  }
 },
 "nbformat": 4,
 "nbformat_minor": 2
}
