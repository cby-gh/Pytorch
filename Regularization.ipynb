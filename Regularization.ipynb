{
 "cells": [
  {
   "cell_type": "code",
   "execution_count": 2,
   "metadata": {},
   "outputs": [],
   "source": [
    "#!/usr/bin/env pyhon\n",
    "from __future__ import print_function\n",
    "from itertools import count\n",
    "import numpy as np\n",
    "import torch\n",
    "import torch.autograd\n",
    "import torch.nn.functional as F\n",
    "import matplotlib.pyplot as plt\n",
    "import torch.utils.data as Data\n",
    "\n",
    "from sklearn.datasets import load_iris\n",
    "from torch.autograd import Variable\n",
    "from torch.optim import SGD"
   ]
  },
  {
   "cell_type": "code",
   "execution_count": 3,
   "metadata": {},
   "outputs": [
    {
     "name": "stdout",
     "output_type": "stream",
     "text": [
      "tensor([[-1.5256, -0.7502, -0.6540, -1.6095, -0.1002],\n",
      "        [-0.6092, -0.9798, -1.6091, -0.7121,  1.1712],\n",
      "        [ 1.7674, -0.0954,  0.1394, -1.5785, -0.3206],\n",
      "        [-0.2993,  1.8793,  0.3357,  0.2753,  1.7163],\n",
      "        [-0.0561,  0.9107, -1.3924,  2.6891, -0.1110]])\n",
      "tensor([[-3.0512, -0.0000, -0.0000, -0.0000, -0.0000],\n",
      "        [-1.2184, -1.9595, -0.0000, -1.4243,  0.0000],\n",
      "        [ 3.5349, -0.1907,  0.2787, -0.0000, -0.0000],\n",
      "        [-0.5987,  3.7587,  0.6715,  0.5507,  3.4326],\n",
      "        [-0.0000,  0.0000, -0.0000,  5.3782, -0.2220]])\n"
     ]
    }
   ],
   "source": [
    "torch.manual_seed(1)\n",
    "m=torch.nn.Dropout(p=0.5)\n",
    "input = torch.autograd.Variable(torch.randn(5,5))\n",
    "output = m(input)\n",
    "print(input)\n",
    "print(output)"
   ]
  },
  {
   "cell_type": "code",
   "execution_count": null,
   "metadata": {},
   "outputs": [],
   "source": []
  }
 ],
 "metadata": {
  "kernelspec": {
   "display_name": "Python 3",
   "language": "python",
   "name": "python3"
  },
  "language_info": {
   "codemirror_mode": {
    "name": "ipython",
    "version": 3
   },
   "file_extension": ".py",
   "mimetype": "text/x-python",
   "name": "python",
   "nbconvert_exporter": "python",
   "pygments_lexer": "ipython3",
   "version": "3.7.3"
  }
 },
 "nbformat": 4,
 "nbformat_minor": 2
}
