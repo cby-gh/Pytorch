{
 "cells": [
  {
   "cell_type": "code",
   "execution_count": 8,
   "metadata": {},
   "outputs": [
    {
     "name": "stdout",
     "output_type": "stream",
     "text": [
      "['p1.png']\n",
      "/home/cby/pytorch_learning/数据集生成/data1/imagesp1.png 1\n",
      "\n",
      "['p1.png']\n",
      "/home/cby/pytorch_learning/数据集生成/data1/imagesp1.png 2\n",
      "\n",
      "['p1.png']\n",
      "/home/cby/pytorch_learning/数据集生成/data1/imagesp1.png 3\n",
      "\n"
     ]
    }
   ],
   "source": [
    "import os\n",
    "a=0\n",
    "flag=0\n",
    "while(a<3):#1024为我们的类别数\n",
    "    a=a+1\n",
    "    dir = '/home/cby/pytorch_learning/数据集生成/data1/images'#图片文件的地址\n",
    "    label = a\n",
    "#os.listdir的结果就是一个list集，可以使用list的sort方法来排序。如果文件名中有数字，就用数字的排序\n",
    "    files = os.listdir(dir)#列出dirname下的目录和文件\n",
    "    files.sort()#排序\n",
    "    print(files)\n",
    "    train = open('/home/cby/pytorch_learning/数据集生成/data1/train.txt','a')\n",
    "    test = open('/home/cby/pytorch_learning/数据集生成/data1/test.txt', 'a')\n",
    "    i = 1\n",
    "    for file in files:\n",
    "        if i<20000:\n",
    "            fileType = os.path.split(file)#os.path.split()：按照路径将文件名和路径分割开\n",
    "            if fileType[1] == '.txt':\n",
    "                continue\n",
    "            name =  str(dir) +  file + ' ' + str(int(label)) +'\\n'\n",
    "            train.write(name)\n",
    "            print(name)\n",
    "            i = i+1\n",
    "           \n",
    "        else:\n",
    "            fileType = os.path.split(file)\n",
    "            if fileType[1] == '.txt':\n",
    "                continue\n",
    "            name = str(dir) +file + ' ' + str(int(label)) +'\\n'\n",
    "            print(name)\n",
    "            test.write(name)\n",
    "            i = i+1        \n",
    "    test.close()\n",
    "    train.close()"
   ]
  },
  {
   "cell_type": "code",
   "execution_count": null,
   "metadata": {},
   "outputs": [],
   "source": []
  }
 ],
 "metadata": {
  "kernelspec": {
   "display_name": "Python 3",
   "language": "python",
   "name": "python3"
  },
  "language_info": {
   "codemirror_mode": {
    "name": "ipython",
    "version": 3
   },
   "file_extension": ".py",
   "mimetype": "text/x-python",
   "name": "python",
   "nbconvert_exporter": "python",
   "pygments_lexer": "ipython3",
   "version": "3.7.3"
  }
 },
 "nbformat": 4,
 "nbformat_minor": 2
}
