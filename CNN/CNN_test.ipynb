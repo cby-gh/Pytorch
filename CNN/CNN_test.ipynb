{
 "cells": [
  {
   "cell_type": "code",
   "execution_count": 50,
   "metadata": {},
   "outputs": [],
   "source": [
    "import torch\n",
    "from torch import nn, optim\n",
    "import torch.functional as F\n",
    "from torch.autograd import Variable\n",
    "from torch.utils.data import DataLoader\n",
    "from torchvision import transforms\n",
    "from torchvision import datasets\n",
    "import time"
   ]
  },
  {
   "cell_type": "code",
   "execution_count": 51,
   "metadata": {},
   "outputs": [],
   "source": [
    "torch.manual_seed(1)\n",
    "batch_size = 128\n",
    "learning_rate = 1e-2\n",
    "num_epoches = 10"
   ]
  },
  {
   "cell_type": "code",
   "execution_count": 52,
   "metadata": {},
   "outputs": [],
   "source": [
    "train_dataset = datasets.MNIST(root='/home/cby/pytorch_learning/data', train=True, transform=transforms.ToTensor(), download=True)\n",
    "test_dataset = datasets.MNIST(root=\"/home/cby/pytorch_learning/data\", train=False, transform=transforms.ToTensor())\n",
    "train_loader = DataLoader(train_dataset, batch_size = batch_size, shuffle=True)\n",
    "test_loader = DataLoader(test_dataset, batch_size=batch_size, shuffle=False)"
   ]
  },
  {
   "cell_type": "code",
   "execution_count": 53,
   "metadata": {},
   "outputs": [
    {
     "name": "stdout",
     "output_type": "stream",
     "text": [
      "Cnn(\n",
      "  (conv): Sequential(\n",
      "    (0): Conv2d(1, 6, kernel_size=(3, 3), stride=(1, 1), padding=(1, 1))\n",
      "    (1): ReLU(inplace=True)\n",
      "    (2): MaxPool2d(kernel_size=2, stride=2, padding=0, dilation=1, ceil_mode=False)\n",
      "    (3): Conv2d(6, 16, kernel_size=(5, 5), stride=(1, 1))\n",
      "    (4): ReLU(inplace=True)\n",
      "    (5): MaxPool2d(kernel_size=2, stride=2, padding=0, dilation=1, ceil_mode=False)\n",
      "  )\n",
      "  (fc): Sequential(\n",
      "    (0): Linear(in_features=400, out_features=120, bias=True)\n",
      "    (1): Linear(in_features=120, out_features=84, bias=True)\n",
      "    (2): Linear(in_features=84, out_features=10, bias=True)\n",
      "  )\n",
      ")\n"
     ]
    }
   ],
   "source": [
    "class Cnn(nn.Module):\n",
    "    def __init__(self, in_dim, n_class):\n",
    "        super(Cnn,self).__init__()\n",
    "        self.conv=nn.Sequential(\n",
    "            nn.Conv2d(in_dim, 6, 3, stride=1, padding=1),\n",
    "            nn.ReLU(True),\n",
    "            nn.MaxPool2d(2,2),\n",
    "            nn.Conv2d(6,16,5,stride=1, padding=0),\n",
    "            nn.ReLU(True),\n",
    "            nn.MaxPool2d(2,2))\n",
    "        self.fc=nn.Sequential(\n",
    "            nn.Linear(400,120),\n",
    "            nn.Linear(120,84),\n",
    "            nn.Linear(84,n_class))\n",
    "    def forward(self,x):\n",
    "        out = self.conv(x)\n",
    "        out = out.view(out.size(0),400)\n",
    "        out = self.fc(out)\n",
    "        return out\n",
    "\n",
    "model = Cnn(1,10)\n",
    "use_gpu = torch.cuda.is_available()  # 判断是否有GPU加速\n",
    "if use_gpu:\n",
    "    model = model.cuda()\n",
    "print(model)"
   ]
  },
  {
   "cell_type": "code",
   "execution_count": 54,
   "metadata": {},
   "outputs": [],
   "source": [
    "criterion = nn.CrossEntropyLoss()\n",
    "optimizer = optim.SGD(model.parameters(), lr=learning_rate)"
   ]
  },
  {
   "cell_type": "code",
   "execution_count": 55,
   "metadata": {},
   "outputs": [
    {
     "name": "stdout",
     "output_type": "stream",
     "text": [
      "Train 1 epoch, Loss: 2.285776, Acc: 0.221550\n",
      "Train 2 epoch, Loss: 1.370800, Acc: 0.636083\n",
      "Train 3 epoch, Loss: 0.411640, Acc: 0.878833\n",
      "Train 4 epoch, Loss: 0.294590, Acc: 0.912050\n",
      "Train 5 epoch, Loss: 0.231721, Acc: 0.930083\n",
      "Train 6 epoch, Loss: 0.188468, Acc: 0.942800\n",
      "Train 7 epoch, Loss: 0.158934, Acc: 0.952717\n",
      "Train 8 epoch, Loss: 0.139242, Acc: 0.958133\n",
      "Train 9 epoch, Loss: 0.125947, Acc: 0.961917\n",
      "Train 10 epoch, Loss: 0.115721, Acc: 0.965000\n"
     ]
    }
   ],
   "source": [
    "for epoch in range(num_epoches):\n",
    "    since = time.time()\n",
    "    running_loss=0.0\n",
    "    running_acc = 0.0\n",
    "    for i, data in enumerate(train_loader, 1):\n",
    "        img, label = data\n",
    "        img = Variable(img)\n",
    "        label = Variable(label)\n",
    "        if use_gpu:\n",
    "            img = Variable(img).cuda()\n",
    "            label = Variable(label).cuda()\n",
    "        else:\n",
    "            img = Variable(img)\n",
    "            label = Variable(label)\n",
    "        out = model(img)\n",
    "        loss = criterion(out, label)\n",
    "        #running_loss += loss.data[0] * label.size(0)\n",
    "        running_loss += loss.item() * label.size(0)\n",
    "        _, pred = torch.max(out,1)#0列1行\n",
    "        num_correct = (pred == label).sum()\n",
    "        #running_acc += num_correct.data[0]\n",
    "        running_acc += num_correct.item()\n",
    "        optimizer.zero_grad()\n",
    "        loss.backward()\n",
    "        optimizer.step()\n",
    "    print('Train {} epoch, Loss: {:.6f}, Acc: {:.6f}'.format(epoch+1, running_loss/(len(train_dataset)),running_acc / (len(train_dataset))))\n",
    "    "
   ]
  },
  {
   "cell_type": "code",
   "execution_count": 56,
   "metadata": {},
   "outputs": [
    {
     "name": "stdout",
     "output_type": "stream",
     "text": [
      "Train 10 epoch, Loss: 0.000133, Acc: 0.161300\n",
      "Time:4.7 s\n"
     ]
    }
   ],
   "source": [
    "model.eval()\n",
    "eval_loss=0\n",
    "eval_acc=0\n",
    "for data in test_loader:\n",
    "    img, label = data\n",
    "    #print(type(img))\n",
    "    #img = Variable(img, volatile=True)\n",
    "    with torch.no_grad():\n",
    "        img = Variable(img)\n",
    "        if use_gpu:\n",
    "            img = Variable(img).cuda()\n",
    "            label = Variable(label).cuda()\n",
    "        else:\n",
    "            img = Variable(img)\n",
    "            label = Variable(label)\n",
    "    out = model(img)\n",
    "    loss = criterion(out,label)\n",
    "    eval_loss += loss.item()\n",
    "    _, pred = torch.max(out,1)\n",
    "    num_correct = (pred==label).sum()\n",
    "    eval_acc += num_correct.item()\n",
    "print('Train {} epoch, Loss: {:.6f}, Acc: {:.6f}'.format(epoch+1, eval_loss/(len(train_dataset)),eval_acc * 1.0 / (len(train_dataset))))\n",
    "print('Time:{:.1f} s'.format(time.time() - since))"
   ]
  },
  {
   "cell_type": "code",
   "execution_count": null,
   "metadata": {},
   "outputs": [],
   "source": []
  },
  {
   "cell_type": "code",
   "execution_count": null,
   "metadata": {},
   "outputs": [],
   "source": []
  }
 ],
 "metadata": {
  "kernelspec": {
   "display_name": "Python 3",
   "language": "python",
   "name": "python3"
  },
  "language_info": {
   "codemirror_mode": {
    "name": "ipython",
    "version": 3
   },
   "file_extension": ".py",
   "mimetype": "text/x-python",
   "name": "python",
   "nbconvert_exporter": "python",
   "pygments_lexer": "ipython3",
   "version": "3.7.3"
  }
 },
 "nbformat": 4,
 "nbformat_minor": 2
}
