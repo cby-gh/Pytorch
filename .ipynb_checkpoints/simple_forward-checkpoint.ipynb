{
 "cells": [
  {
   "cell_type": "code",
   "execution_count": 1,
   "metadata": {},
   "outputs": [],
   "source": [
    "#!/usr/bin/env pyhon\n",
    "from __future__ import print_function\n",
    "from itertools import count\n",
    "import numpy as np\n",
    "import torch\n",
    "import torch.autograd\n",
    "import torch.nn.functional as F\n",
    "from torch.autograd import Variable\n",
    "import matplotlib.pyplot as plt"
   ]
  },
  {
   "cell_type": "code",
   "execution_count": 2,
   "metadata": {},
   "outputs": [
    {
     "name": "stdout",
     "output_type": "stream",
     "text": [
      "tensor([0.7744, 0.1936])\n",
      "tensor([0.6845, 0.5483])\n"
     ]
    }
   ],
   "source": [
    "s = torch.nn.Sigmoid()\n",
    "input = Variable(torch.randn(2))\n",
    "print(input)\n",
    "print(m(input))"
   ]
  },
  {
   "cell_type": "code",
   "execution_count": 3,
   "metadata": {},
   "outputs": [
    {
     "name": "stdout",
     "output_type": "stream",
     "text": [
      "tensor([0.6495, 0.1913])\n"
     ]
    }
   ],
   "source": [
    "t=torch.nn.Tanh()\n",
    "print(t(input))"
   ]
  },
  {
   "cell_type": "code",
   "execution_count": 7,
   "metadata": {},
   "outputs": [
    {
     "name": "stdout",
     "output_type": "stream",
     "text": [
      "tensor([ 2.5991, -0.8791])\n",
      "tensor([ 2.0000, -0.8791])\n"
     ]
    }
   ],
   "source": [
    "m=torch.nn.Hardtanh(-2,2)\n",
    "input=Variable(torch.randn(2))\n",
    "print(input)\n",
    "print(m(input))"
   ]
  },
  {
   "cell_type": "code",
   "execution_count": 10,
   "metadata": {},
   "outputs": [
    {
     "name": "stdout",
     "output_type": "stream",
     "text": [
      "tensor([ 0.3176, -0.4108])\n",
      "tensor([0.3176, 0.0000])\n"
     ]
    }
   ],
   "source": [
    "m=torch.nn.ReLU()\n",
    "input=Variable(torch.randn(2))\n",
    "print(input)\n",
    "print(m(input))"
   ]
  },
  {
   "cell_type": "code",
   "execution_count": 13,
   "metadata": {},
   "outputs": [],
   "source": [
    "loss = torch.nn.MSELoss()\n",
    "input = Variable(torch.randn(2,5),requires_grad=True)\n",
    "target=Variable(torch.randn(2,5))\n",
    "output=loss(input,target)\n",
    "output.backward()"
   ]
  },
  {
   "cell_type": "code",
   "execution_count": 34,
   "metadata": {},
   "outputs": [],
   "source": [
    "loss = torch.nn.CrossEntropyLoss()\n",
    "m=torch.nn.Sigmoid()\n",
    "input = Variable(torch.randn(2,5),requires_grad=True)\n",
    "#target=Variable(torch.rand(2))\n",
    "target=torch.LongTensor(2).random_(2)\n",
    "output=loss(m(input),target)\n",
    "output.backward()"
   ]
  },
  {
   "cell_type": "code",
   "execution_count": null,
   "metadata": {},
   "outputs": [],
   "source": []
  }
 ],
 "metadata": {
  "kernelspec": {
   "display_name": "Python 3",
   "language": "python",
   "name": "python3"
  },
  "language_info": {
   "codemirror_mode": {
    "name": "ipython",
    "version": 3
   },
   "file_extension": ".py",
   "mimetype": "text/x-python",
   "name": "python",
   "nbconvert_exporter": "python",
   "pygments_lexer": "ipython3",
   "version": "3.7.3"
  }
 },
 "nbformat": 4,
 "nbformat_minor": 2
}
