{
 "cells": [
  {
   "cell_type": "code",
   "execution_count": 22,
   "metadata": {},
   "outputs": [],
   "source": [
    "#!/usr/bin/env pyhon\n",
    "from __future__ import print_function\n",
    "from itertools import count"
   ]
  },
  {
   "cell_type": "code",
   "execution_count": 23,
   "metadata": {},
   "outputs": [],
   "source": [
    "import numpy as np\n",
    "import torch\n",
    "import torch.autograd\n",
    "import torch.nn.functional as F\n",
    "from torch.autograd import Variable\n",
    "import matplotlib.pyplot as plt"
   ]
  },
  {
   "cell_type": "code",
   "execution_count": 24,
   "metadata": {},
   "outputs": [],
   "source": [
    "random_state=5000\n",
    "torch.manual_seed(random_state)\n",
    "PLOY_DEGREE=4\n",
    "W_target=torch.randn(PLOY_DEGREE,1)*5\n",
    "b_target=torch.randn(1)*5"
   ]
  },
  {
   "cell_type": "code",
   "execution_count": 25,
   "metadata": {},
   "outputs": [],
   "source": [
    "def make_features(x):\n",
    "    x=x.unsqueeze(1)\n",
    "    return torch.cat([x**i for i in range(1,PLOY_DEGREE+1)],1)"
   ]
  },
  {
   "cell_type": "code",
   "execution_count": 26,
   "metadata": {},
   "outputs": [],
   "source": [
    "def f(x):\n",
    "    return x.mm(W_target) + b_target[0]"
   ]
  },
  {
   "cell_type": "code",
   "execution_count": 27,
   "metadata": {},
   "outputs": [],
   "source": [
    "def poly_desc(W,b):\n",
    "    result='y='\n",
    "    for i,w in enumerate(W):\n",
    "        result += '{:+.2f} x^{} '.format(w, len(W)-i)\n",
    "        result += '{:+.2f}'.format(b[0])\n",
    "        return result\n",
    "        "
   ]
  },
  {
   "cell_type": "code",
   "execution_count": 28,
   "metadata": {},
   "outputs": [],
   "source": [
    "def get_batch(batch_size=32):\n",
    "    random = torch.from_numpy(np.sort(torch.randn(batch_size)))\n",
    "    x=make_features(random)\n",
    "    y=f(x)\n",
    "    return Variable(x),Variable(y)"
   ]
  },
  {
   "cell_type": "code",
   "execution_count": 29,
   "metadata": {},
   "outputs": [],
   "source": [
    "fc=torch.nn.Linear(W_target.size(0),1)"
   ]
  },
  {
   "cell_type": "code",
   "execution_count": 38,
   "metadata": {},
   "outputs": [
    {
     "name": "stdout",
     "output_type": "stream",
     "text": [
      "<class 'torch.Tensor'>\t\n"
     ]
    },
    {
     "data": {
      "image/png": "[encoded data removed]",
      "text/plain": [
       "<Figure size 432x288 with 1 Axes>"
      ]
     },
     "metadata": {
      "needs_background": "light"
     },
     "output_type": "display_data"
    },
    {
     "name": "stdout",
     "output_type": "stream",
     "text": [
      "Loss: 0.000252 after 1 batches\n",
      "==> Learned function:\ty=+6.10 x^4 -1.65\n",
      "==> Actual function:\ty=+6.13 x^4 -1.62\n"
     ]
    }
   ],
   "source": [
    "for batch_idx in count(1):\n",
    "    batch_x, batch_y = get_batch()\n",
    "    fc.zero_grad()\n",
    "    output=F.smooth_l1_loss(fc(batch_x),batch_y)\n",
    "    print(str(type(output))+'\\t')\n",
    "    #loss=output.data[0]\n",
    "    loss=output.item()\n",
    "    output.backward()\n",
    "    for param in fc.parameters():\n",
    "        param.data.add_(-0.1*param.grad.data)\n",
    "    if loss< 1e-3:\n",
    "        plt.cla()\n",
    "        plt.scatter(batch_x.data.numpy()[:,0], batch_y.data.numpy()[:,0], label='real curve', color = 'b')\n",
    "        plt.plot(batch_x.data.numpy()[:,0], fc(batch_x).data.numpy()[:,0], label='fitting curve', color = 'r')\n",
    "        plt.legend()\n",
    "        plt.show()\n",
    "        break\n",
    "\n",
    "print('Loss: {:.6f} after {} batches'.format(loss, batch_idx))\n",
    "print('==> Learned function:\\t' + poly_desc(fc.weight.data.view(-1), fc.bias.data))\n",
    "print('==> Actual function:\\t' + poly_desc(W_target.view(-1), b_target))"
   ]
  },
  {
   "cell_type": "code",
   "execution_count": null,
   "metadata": {},
   "outputs": [],
   "source": []
  }
 ],
 "metadata": {
  "kernelspec": {
   "display_name": "Python 3",
   "language": "python",
   "name": "python3"
  },
  "language_info": {
   "codemirror_mode": {
    "name": "ipython",
    "version": 3
   },
   "file_extension": ".py",
   "mimetype": "text/x-python",
   "name": "python",
   "nbconvert_exporter": "python",
   "pygments_lexer": "ipython3",
   "version": "3.7.3"
  }
 },
 "nbformat": 4,
 "nbformat_minor": 2
}
